{
 "cells": [
  {
   "cell_type": "markdown",
   "metadata": {},
   "source": [
    "# 1. Searching"
   ]
  },
  {
   "cell_type": "markdown",
   "metadata": {},
   "source": [
    "### 1.1 Linear Search"
   ]
  },
  {
   "cell_type": "code",
   "execution_count": 8,
   "metadata": {},
   "outputs": [
    {
     "name": "stdout",
     "output_type": "stream",
     "text": [
      "Array: [1, 2, 3, 4, 5]\n",
      "Target: 4\n",
      "Index: 3\n"
     ]
    }
   ],
   "source": [
    "a = list(map(int,input().split()))\n",
    "n = int(input())\n",
    "index = -1\n",
    "for i in range(len(a)):\n",
    "    if a[i] == n:\n",
    "        index = i\n",
    "print (\"Array: {}\\nTarget: {}\\nIndex: {}\".format(a,n,index))"
   ]
  },
  {
   "cell_type": "markdown",
   "metadata": {},
   "source": [
    "## 1.2 Binary Search"
   ]
  },
  {
   "cell_type": "code",
   "execution_count": 35,
   "metadata": {},
   "outputs": [
    {
     "name": "stdout",
     "output_type": "stream",
     "text": [
      "Array: [1, 2, 3, 4, 5, 6]\n",
      "Target: 7\n",
      "Index: -1\n"
     ]
    }
   ],
   "source": [
    "a = list(map(int,input().split()))\n",
    "n = int(input())\n",
    "index = -1\n",
    "b = 0\n",
    "e = len(a)-1\n",
    "while b<=e:\n",
    "    m = b+(e-b)//2\n",
    "    if a[m] == n:\n",
    "        index = m\n",
    "        break\n",
    "    elif a[m] < n: b = m+1\n",
    "    else: e = m-1\n",
    "print (\"Array: {}\\nTarget: {}\\nIndex: {}\".format(a,n,index))"
   ]
  },
  {
   "cell_type": "markdown",
   "metadata": {},
   "source": [
    "## 2. Sorting"
   ]
  },
  {
   "cell_type": "markdown",
   "metadata": {},
   "source": [
    "## 2.1 Bubble Sort"
   ]
  },
  {
   "cell_type": "code",
   "execution_count": 39,
   "metadata": {},
   "outputs": [
    {
     "name": "stdout",
     "output_type": "stream",
     "text": [
      "Before Sort:  [5, 4, 3, 2, 1]\n",
      "After Sort:  [1, 2, 3, 4, 5]\n"
     ]
    }
   ],
   "source": [
    "a = list(map(int,input().split()))\n",
    "print(\"Before Sort: \",a)\n",
    "n = len(a)\n",
    "for i in range(n):\n",
    "    swapped = False\n",
    "    for j in range(n-i-1):\n",
    "        if a[j]>a[j+1]:\n",
    "            a[j],a[j+1] = a[j+1],a[j]\n",
    "            swapped = True\n",
    "    if swapped == False:\n",
    "        break\n",
    "print (\"After Sort: \",a)\n"
   ]
  },
  {
   "cell_type": "markdown",
   "metadata": {},
   "source": [
    "## 2.2 Selection Sort"
   ]
  },
  {
   "cell_type": "code",
   "execution_count": 41,
   "metadata": {},
   "outputs": [
    {
     "name": "stdout",
     "output_type": "stream",
     "text": [
      "Before Sort:  [5, 4, 3, 2, 1]\n",
      "After Sort:  [1, 2, 3, 4, 5]\n"
     ]
    }
   ],
   "source": [
    "a = list(map(int,input().split()))\n",
    "print(\"Before Sort: \",a)\n",
    "n = len(a)\n",
    "for i in range(n):\n",
    "    mi = i\n",
    "    for j in range(i+1,n):\n",
    "        if a[mi] > a[j]:\n",
    "            mi = j\n",
    "    a[i],a[mi] = a[mi],a[i]\n",
    "print (\"After Sort: \",a)"
   ]
  },
  {
   "cell_type": "markdown",
   "metadata": {},
   "source": [
    "## 2.3 Insertion Sort"
   ]
  },
  {
   "cell_type": "code",
   "execution_count": 43,
   "metadata": {},
   "outputs": [
    {
     "name": "stdout",
     "output_type": "stream",
     "text": [
      "Before Sort:  [5, 4, 3, 2, 1]\n",
      "After Sort:  [1, 2, 3, 4, 5]\n"
     ]
    }
   ],
   "source": [
    "a = list(map(int,input().split()))\n",
    "print(\"Before Sort: \",a)\n",
    "n = len(a)\n",
    "for i in range(1,n):\n",
    "    key = a[i]\n",
    "    j = i-1\n",
    "    while j>=0 and key<a[j]:\n",
    "        a[j+1] = a[j]\n",
    "        j-=1\n",
    "    a[j+1] = key\n",
    "print (\"After Sort: \",a)"
   ]
  },
  {
   "cell_type": "markdown",
   "metadata": {},
   "source": [
    "## 2.4 Merge Sort"
   ]
  },
  {
   "cell_type": "code",
   "execution_count": 49,
   "metadata": {},
   "outputs": [
    {
     "name": "stdout",
     "output_type": "stream",
     "text": [
      "Before Sort:  [5, 4, 3, 2, 1]\n",
      "After Sort:  [1, 2, 3, 4, 5]\n"
     ]
    }
   ],
   "source": [
    "def mergesort(a):\n",
    "    if len(a)>1:\n",
    "        m = len(a)//2\n",
    "        l = a[:m]\n",
    "        r = a[m:]\n",
    "        mergesort(l)\n",
    "        mergesort(r)\n",
    "        i=j=k=0\n",
    "        while i<len(l) and j<len(r):\n",
    "            if l[i]<r[j]:\n",
    "                a[k]=l[i]\n",
    "                i+=1\n",
    "            else:\n",
    "                a[k] = r[j]\n",
    "                j+=1\n",
    "            k+=1\n",
    "        while i<len(l):\n",
    "            a[k]=l[i]\n",
    "            i+=1\n",
    "            k+=1\n",
    "        while j<len(r):\n",
    "            a[k] = r[j]\n",
    "            j+=1\n",
    "            k+=1\n",
    "\n",
    "a = list(map(int,input().split()))\n",
    "print(\"Before Sort: \",a)\n",
    "mergesort(a)\n",
    "print (\"After Sort: \",a)"
   ]
  },
  {
   "cell_type": "markdown",
   "metadata": {},
   "source": [
    "## 2.5 Quick Sort"
   ]
  },
  {
   "cell_type": "code",
   "execution_count": 62,
   "metadata": {},
   "outputs": [
    {
     "name": "stdout",
     "output_type": "stream",
     "text": [
      "Before Sort:  [5, 4, 3, 2, 0]\n",
      "After Sort:  [0, 2, 3, 4, 5]\n"
     ]
    }
   ],
   "source": [
    "def partition(a,b,e):\n",
    "    pivot = a[e]\n",
    "    i = b-1\n",
    "    for j in range(b,e):\n",
    "        if a[j]<=pivot:\n",
    "            i=i+1\n",
    "            a[i],a[j] = a[j],a[i]\n",
    "    a[i+1],a[e] = a[e],a[i+1]\n",
    "    return i+1\n",
    "\n",
    "def quicksort(a,b,e):\n",
    "    if b<e:\n",
    "        pi = partition(a,b,e)\n",
    "        quicksort(a,b,pi-1)\n",
    "        quicksort(a,pi+1,e)\n",
    "\n",
    "a = list(map(int,input().split()))\n",
    "print(\"Before Sort: \",a)\n",
    "quicksort(a,0,len(a)-1)\n",
    "print (\"After Sort: \",a)"
   ]
  },
  {
   "cell_type": "markdown",
   "metadata": {},
   "source": [
    "## 2.6 Heap Sort"
   ]
  },
  {
   "cell_type": "code",
   "execution_count": 61,
   "metadata": {},
   "outputs": [
    {
     "name": "stdout",
     "output_type": "stream",
     "text": [
      "Before Sort:  [0, 1, 2, 3, 4, 5]\n",
      "After Sort:  [0, 1, 2, 3, 5, 4]\n"
     ]
    }
   ],
   "source": [
    "def heapify(a,n,i):\n",
    "    largest = i\n",
    "    l = 2*i+1\n",
    "    r = 2*i+2\n",
    "    if l<n and a[largest]<a[l]:\n",
    "        largest = l\n",
    "    if r<n and a[largest]<a[r]:\n",
    "        largest = r\n",
    "    if largest != i:\n",
    "        a[i],a[largest] = a[largest],a[i]\n",
    "        heapify(a,n,largest)\n",
    "\n",
    "def heapsort(a):\n",
    "    for i in range(len(a)//2-1,-1,-1):\n",
    "        heapify(a,n,i)\n",
    "    for i in range(len(a)-1,0,-1):\n",
    "        a[i],a[0]=a[0],a[i]\n",
    "        heapify(a,i,0)\n",
    "\n",
    "a = list(map(int,input().split()))\n",
    "print(\"Before Sort: \",a)\n",
    "heapsort(a)\n",
    "print (\"After Sort: \",a)"
   ]
  },
  {
   "cell_type": "markdown",
   "metadata": {},
   "source": [
    "## 2.7 Counting Sort"
   ]
  },
  {
   "cell_type": "code",
   "execution_count": 69,
   "metadata": {},
   "outputs": [
    {
     "name": "stdout",
     "output_type": "stream",
     "text": [
      "Before Sort:  [0, -1, -1, -2]\n",
      "After Sort:  [-2, -1, -1, 0]\n"
     ]
    }
   ],
   "source": [
    "a = list(map(int,input().split()))\n",
    "print(\"Before Sort: \",a)\n",
    "o = []\n",
    "maxe = max(a)\n",
    "mine = min(a)\n",
    "r = maxe-mine+1\n",
    "count = [0 for i in range(r)]\n",
    "for i in range(len(a)):\n",
    "    count[a[i]+(mine*-1)] += 1\n",
    "for i in range(len(count)):\n",
    "    if count[i] != 0:\n",
    "        o += [i+mine]*count[i]\n",
    "print (\"After Sort: \",o)"
   ]
  },
  {
   "cell_type": "markdown",
   "metadata": {},
   "source": [
    "# 3. Data Structures"
   ]
  },
  {
   "cell_type": "markdown",
   "metadata": {},
   "source": [
    "## 3.1 Binary Search Tree"
   ]
  },
  {
   "cell_type": "code",
   "execution_count": 82,
   "metadata": {},
   "outputs": [
    {
     "name": "stdout",
     "output_type": "stream",
     "text": [
      "Level Order Traversal:  [8, 3, 10, 1, 6, 14, 4, 7, 13]\n",
      "Inorder Traversal:  [1, 3, 4, 6, 7, 8, 10, 13, 14]\n",
      "Preorder Traversal:  [8, 3, 1, 6, 4, 7, 10, 14, 13]\n",
      "Postorder Traversal:  [1, 4, 7, 6, 3, 13, 14, 10, 8]\n",
      "Search for 13: Found\n"
     ]
    }
   ],
   "source": [
    "class node:\n",
    "    def __init__(self,val):\n",
    "        self.val = val\n",
    "        self.left = None\n",
    "        self.right = None\n",
    "\n",
    "class bst:\n",
    "\n",
    "    def __init__(self):\n",
    "        self.root = None\n",
    "\n",
    "    def add(self,val):\n",
    "        if self.root:\n",
    "            r = self.root\n",
    "            while True:\n",
    "                if val<r.val:\n",
    "                    if r.left: r = r.left\n",
    "                    else:\n",
    "                        r.left = node(val)\n",
    "                        break\n",
    "                elif val>r.val:\n",
    "                    if r.right: r = r.right\n",
    "                    else:\n",
    "                        r.right = node(val)\n",
    "                        break\n",
    "                else:\n",
    "                    break\n",
    "        else: self.root = node(val)\n",
    "\n",
    "    def bfs(self,path=[]):\n",
    "        if self.root:\n",
    "            r = self.root\n",
    "            q = [r]\n",
    "            while q != []:\n",
    "                n = q.pop(0)\n",
    "                path.append(n.val)\n",
    "                if n.left: q.append(n.left)\n",
    "                if n.right: q.append(n.right)\n",
    "            return path\n",
    "        else: print(\"Empty\")\n",
    "    \n",
    "    def inorder(self,r,path=[]):\n",
    "        if r:\n",
    "            self.inorder(r.left)\n",
    "            path.append(r.val)\n",
    "            self.inorder(r.right)\n",
    "        return path\n",
    "    \n",
    "    def preorder(self,r,path=[]):\n",
    "        if r:\n",
    "            path.append(r.val)\n",
    "            self.preorder(r.left)\n",
    "            self.preorder(r.right)\n",
    "        return path\n",
    "\n",
    "    def postorder(self,r,path=[]):\n",
    "        if r:\n",
    "            self.postorder(r.left)\n",
    "            self.postorder(r.right)\n",
    "            path.append(r.val)\n",
    "        return path\n",
    "    \n",
    "    def search(self,r,val):\n",
    "        v = None\n",
    "        if r:\n",
    "            if r.val == val:\n",
    "                return \"Found\"\n",
    "            elif r.val > val:\n",
    "                if r.left:\n",
    "                    v = self.search(r.left,val)\n",
    "                    if v: return v\n",
    "            elif r.val < val:\n",
    "                if r.right:\n",
    "                    v = self.search(r.right,val)\n",
    "                    if v: return v\n",
    "        if v == None:\n",
    "            return \"Not Found\"\n",
    "\n",
    "tree = bst()\n",
    "a = [8,3,1,6,4,7,10,14,13]\n",
    "for i in range(len(a)):\n",
    "    tree.add(a[i])\n",
    "print(\"Level Order Traversal: \",tree.bfs())\n",
    "print(\"Inorder Traversal: \",tree.inorder(tree.root))\n",
    "print(\"Preorder Traversal: \",tree.preorder(tree.root))\n",
    "print(\"Postorder Traversal: \",tree.postorder(tree.root))\n",
    "v = 13\n",
    "print(\"Search for {}: {}\".format(v,tree.search(tree.root,v)))\n",
    "\n",
    "                "
   ]
  }
 ],
 "metadata": {
  "interpreter": {
   "hash": "1e7803e3ef7387f48ca1d9d1ef7a2ce5b58065cdf2dffcd5531af2331285b491"
  },
  "kernelspec": {
   "display_name": "Python 3.10.0 64-bit",
   "language": "python",
   "name": "python3"
  },
  "language_info": {
   "codemirror_mode": {
    "name": "ipython",
    "version": 3
   },
   "file_extension": ".py",
   "mimetype": "text/x-python",
   "name": "python",
   "nbconvert_exporter": "python",
   "pygments_lexer": "ipython3",
   "version": "3.10.0"
  },
  "orig_nbformat": 4
 },
 "nbformat": 4,
 "nbformat_minor": 2
}
